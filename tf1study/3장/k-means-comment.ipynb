{
 "cells": [
  {
   "cell_type": "code",
   "execution_count": 1,
   "metadata": {
    "collapsed": true
   },
   "outputs": [],
   "source": [
    "import tensorflow as tf\n",
    "import numpy as np"
   ]
  },
  {
   "cell_type": "code",
   "execution_count": 2,
   "metadata": {
    "collapsed": false
   },
   "outputs": [],
   "source": [
    "num_points = 2000\n",
    "vectors_set = []\n",
    "for i in xrange(num_points):\n",
    "    if np.random.random() > 0.5 :\n",
    "        vectors_set.append([np.random.normal(0.0, 0.9), np.random.normal(0.0,0.9)])\n",
    "    else:\n",
    "        vectors_set.append([np.random.normal(3.0, 0.5), np.random.normal(1.0,0.5)])"
   ]
  },
  {
   "cell_type": "code",
   "execution_count": 3,
   "metadata": {
    "collapsed": false,
    "scrolled": true
   },
   "outputs": [
    {
     "name": "stderr",
     "output_type": "stream",
     "text": [
      "//anaconda/lib/python2.7/site-packages/matplotlib/tight_layout.py:225: UserWarning: tight_layout : falling back to Agg renderer\n",
      "  warnings.warn(\"tight_layout : falling back to Agg renderer\")\n",
      "//anaconda/lib/python2.7/site-packages/matplotlib/collections.py:548: FutureWarning: elementwise comparison failed; returning scalar instead, but in the future will perform elementwise comparison\n",
      "  if self._edgecolors == 'face':\n"
     ]
    }
   ],
   "source": [
    "import matplotlib.pyplot as plt\n",
    "import pandas as pd\n",
    "import seaborn as sns\n",
    "\n",
    "df = pd.DataFrame({\"x\":[v[0] for v in vectors_set],\"y\":[v[1] for v in vectors_set]})\n",
    "sns.lmplot(\"x\",\"y\",data=df,fit_reg=False,size=6)\n",
    "plt.show()"
   ]
  },
  {
   "cell_type": "markdown",
   "metadata": {},
   "source": [
    "상수 텐서를 작성 "
   ]
  },
  {
   "cell_type": "code",
   "execution_count": 4,
   "metadata": {
    "collapsed": false
   },
   "outputs": [],
   "source": [
    "vectors = tf.constant(vectors_set)   "
   ]
  },
  {
   "cell_type": "markdown",
   "metadata": {},
   "source": [
    "중심값을 설정"
   ]
  },
  {
   "cell_type": "code",
   "execution_count": 5,
   "metadata": {
    "collapsed": true
   },
   "outputs": [],
   "source": [
    "k = 4\n",
    "centroides = tf.Variable(tf.slice(tf.random_shuffle(vectors),[0,0],[k,-1]))"
   ]
  },
  {
   "cell_type": "markdown",
   "metadata": {},
   "source": [
    "두 차원의 크기를 맞춤<br>\n",
    "vectors와 centroides 두 변수의 차이를 구합니다. <br>\n",
    "이 차이값으로 새로운 클러스터를 결정합니다. "
   ]
  },
  {
   "cell_type": "code",
   "execution_count": null,
   "metadata": {
    "collapsed": true
   },
   "outputs": [],
   "source": [
    "expanded_vectors = tf.expand_dims(vectors,0) #vectors : 2\n",
    "expanded_centroides = tf.expand_dims(centroides,1)"
   ]
  },
  {
   "cell_type": "markdown",
   "metadata": {},
   "source": [
    "유클리드 제곱거리를 사용하는 할당단계의 알고리즘"
   ]
  },
  {
   "cell_type": "code",
   "execution_count": null,
   "metadata": {
    "collapsed": true
   },
   "outputs": [],
   "source": [
    "assignments = tf.argmin(tf.reduce_sum(tf.square(tf.subtract(expanded_vectors,expanded_centroides)),2),0)"
   ]
  },
  {
   "cell_type": "markdown",
   "metadata": {},
   "source": [
    "풀어 쓰면 <br>\n",
    "diff = tf.substract(expanded_vectors, expanded_centroides)<br>\n",
    "sqr =  tf.square(diff)<br>\n",
    "distances = tf.reduce_sum(sqr,2)<br>\n",
    "assignments = tf.argmin(distances, 0)<br>"
   ]
  },
  {
   "cell_type": "markdown",
   "metadata": {},
   "source": [
    "새로운 중심 계산"
   ]
  },
  {
   "cell_type": "markdown",
   "metadata": {},
   "source": [
    "K개 군집에 속하는 점들의 평균을 가진 K개의 텐서를 합쳐서 means 텐서를 생성"
   ]
  },
  {
   "cell_type": "code",
   "execution_count": null,
   "metadata": {
    "collapsed": true
   },
   "outputs": [],
   "source": [
    "means = tf.concat([tf.reduce_mean(tf.gather(vectors,tf.reshape(tf.where(tf.equal(assignments,c)),[1,-1])), reduction_indices=[1]) for c in xrange(k)],0)"
   ]
  },
  {
   "cell_type": "markdown",
   "metadata": {},
   "source": [
    "<h1>그래프 실행</h1>"
   ]
  },
  {
   "cell_type": "markdown",
   "metadata": {},
   "source": [
    "means 텐서 값을 갱신 해야 다음번 수행에서 사용할수 있음 <br>\n",
    "이를 위해 centroides에 means 값을 할당"
   ]
  },
  {
   "cell_type": "code",
   "execution_count": null,
   "metadata": {
    "collapsed": true
   },
   "outputs": [],
   "source": [
    "update_centroides = tf.assign(centroides, means)"
   ]
  },
  {
   "cell_type": "markdown",
   "metadata": {},
   "source": [
    "데이터 그래프를 실행하기 위해서 모든 변수를 초기화"
   ]
  },
  {
   "cell_type": "code",
   "execution_count": null,
   "metadata": {
    "collapsed": true
   },
   "outputs": [],
   "source": [
    "init_op = tf.global_variables_initializer()"
   ]
  },
  {
   "cell_type": "markdown",
   "metadata": {},
   "source": [
    "데이터 그래프를 실행"
   ]
  },
  {
   "cell_type": "code",
   "execution_count": null,
   "metadata": {
    "collapsed": true
   },
   "outputs": [],
   "source": [
    "sess = tf.Session()\n",
    "sess.run(init_op)\n",
    "\n",
    "for step in xrange(100):\n",
    "    _, centroid_values, assignment_values = sess.run([update_centroides, centroides, assignments])\n",
    "    print centroid_values"
   ]
  },
  {
   "cell_type": "code",
   "execution_count": null,
   "metadata": {
    "collapsed": true
   },
   "outputs": [],
   "source": [
    "data = {\"x\":[], \"y\":[], \"cluster\":[]}\n",
    "\n",
    "for i in xrange(len(assignment_values)):\n",
    "    data[\"x\"].append(vectors_set[i][0])\n",
    "    data[\"y\"].append(vectors_set[i][1])\n",
    "    data[\"cluster\"].append(assignment_values[i])\n",
    "    \n",
    "df = pd.DataFrame(data)\n",
    "sns.lmplot(\"x\",\"y\", data=df, fit_reg=False, size=6, hue=\"cluster\", legend=False)\n",
    "plt.show()"
   ]
  },
  {
   "cell_type": "code",
   "execution_count": null,
   "metadata": {
    "collapsed": true
   },
   "outputs": [],
   "source": []
  }
 ],
 "metadata": {
  "kernelspec": {
   "display_name": "Python 2",
   "language": "python",
   "name": "python2"
  },
  "language_info": {
   "codemirror_mode": {
    "name": "ipython",
    "version": 2
   },
   "file_extension": ".py",
   "mimetype": "text/x-python",
   "name": "python",
   "nbconvert_exporter": "python",
   "pygments_lexer": "ipython2",
   "version": "2.7.13"
  }
 },
 "nbformat": 4,
 "nbformat_minor": 0
}
