{
 "cells": [
  {
   "cell_type": "markdown",
   "metadata": {},
   "source": [
    "#Numpy"
   ]
  },
  {
   "cell_type": "code",
   "execution_count": 1,
   "metadata": {
    "collapsed": false
   },
   "outputs": [],
   "source": [
    "import numpy"
   ]
  },
  {
   "cell_type": "code",
   "execution_count": 2,
   "metadata": {
    "collapsed": false
   },
   "outputs": [
    {
     "data": {
      "text/plain": [
       "array([[ 1.,  2.],\n",
       "       [ 3.,  4.],\n",
       "       [ 5.,  6.]])"
      ]
     },
     "execution_count": 2,
     "metadata": {},
     "output_type": "execute_result"
    }
   ],
   "source": [
    "numpy.asarray([[1., 2], [3, 4], [5, 6]])"
   ]
  },
  {
   "cell_type": "code",
   "execution_count": 3,
   "metadata": {
    "collapsed": false
   },
   "outputs": [
    {
     "data": {
      "text/plain": [
       "(3L, 2L)"
      ]
     },
     "execution_count": 3,
     "metadata": {},
     "output_type": "execute_result"
    }
   ],
   "source": [
    "numpy.asarray([[1., 2], [3, 4], [5, 6]]).shape"
   ]
  },
  {
   "cell_type": "code",
   "execution_count": 4,
   "metadata": {
    "collapsed": false
   },
   "outputs": [
    {
     "data": {
      "text/plain": [
       "5.0"
      ]
     },
     "execution_count": 4,
     "metadata": {},
     "output_type": "execute_result"
    }
   ],
   "source": [
    "numpy.asarray([[1., 2], [3, 4], [5, 6]])[2, 0]"
   ]
  },
  {
   "cell_type": "code",
   "execution_count": 6,
   "metadata": {
    "collapsed": false
   },
   "outputs": [
    {
     "data": {
      "text/plain": [
       "array([ 2.,  4.,  6.])"
      ]
     },
     "execution_count": 6,
     "metadata": {},
     "output_type": "execute_result"
    }
   ],
   "source": [
    "a = numpy.asarray([1.0, 2.0, 3.0])\n",
    "b = 2.0\n",
    "a * b"
   ]
  },
  {
   "cell_type": "markdown",
   "metadata": {},
   "source": [
    "#Algebra"
   ]
  },
  {
   "cell_type": "code",
   "execution_count": 7,
   "metadata": {
    "collapsed": false
   },
   "outputs": [
    {
     "name": "stderr",
     "output_type": "stream",
     "text": [
      "Using gpu device 0: GeForce GTX TITAN X\n"
     ]
    }
   ],
   "source": [
    "import theano.tensor as T\n",
    "from theano import function\n",
    "x = T.dscalar('x')\n",
    "y = T.dscalar('y')\n",
    "z = x + y\n",
    "f = function([x, y], z)"
   ]
  },
  {
   "cell_type": "code",
   "execution_count": 8,
   "metadata": {
    "collapsed": false
   },
   "outputs": [
    {
     "data": {
      "text/plain": [
       "array(5.0)"
      ]
     },
     "execution_count": 8,
     "metadata": {},
     "output_type": "execute_result"
    }
   ],
   "source": [
    "f(2, 3)"
   ]
  },
  {
   "cell_type": "code",
   "execution_count": 9,
   "metadata": {
    "collapsed": false
   },
   "outputs": [
    {
     "data": {
      "text/plain": [
       "array(28.4)"
      ]
     },
     "execution_count": 9,
     "metadata": {},
     "output_type": "execute_result"
    }
   ],
   "source": [
    "f(16.3, 12.1)"
   ]
  },
  {
   "cell_type": "markdown",
   "metadata": {},
   "source": [
    "#Step1"
   ]
  },
  {
   "cell_type": "code",
   "execution_count": 11,
   "metadata": {
    "collapsed": true
   },
   "outputs": [],
   "source": [
    "x = T.dscalar('x')\n",
    "y = T.dscalar('y')"
   ]
  },
  {
   "cell_type": "code",
   "execution_count": 12,
   "metadata": {
    "collapsed": false
   },
   "outputs": [
    {
     "data": {
      "text/plain": [
       "theano.tensor.var.TensorVariable"
      ]
     },
     "execution_count": 12,
     "metadata": {},
     "output_type": "execute_result"
    }
   ],
   "source": [
    "type(x)"
   ]
  },
  {
   "cell_type": "code",
   "execution_count": 13,
   "metadata": {
    "collapsed": false
   },
   "outputs": [
    {
     "data": {
      "text/plain": [
       "TensorType(float64, scalar)"
      ]
     },
     "execution_count": 13,
     "metadata": {},
     "output_type": "execute_result"
    }
   ],
   "source": [
    "x.type"
   ]
  },
  {
   "cell_type": "code",
   "execution_count": 14,
   "metadata": {
    "collapsed": false
   },
   "outputs": [
    {
     "data": {
      "text/plain": [
       "TensorType(float64, scalar)"
      ]
     },
     "execution_count": 14,
     "metadata": {},
     "output_type": "execute_result"
    }
   ],
   "source": [
    "T.dscalar"
   ]
  },
  {
   "cell_type": "code",
   "execution_count": 15,
   "metadata": {
    "collapsed": false
   },
   "outputs": [
    {
     "data": {
      "text/plain": [
       "True"
      ]
     },
     "execution_count": 15,
     "metadata": {},
     "output_type": "execute_result"
    }
   ],
   "source": [
    "x.type is T.dscalar"
   ]
  },
  {
   "cell_type": "markdown",
   "metadata": {},
   "source": [
    "#Step2"
   ]
  },
  {
   "cell_type": "code",
   "execution_count": 16,
   "metadata": {
    "collapsed": true
   },
   "outputs": [],
   "source": [
    "z = x + y"
   ]
  },
  {
   "cell_type": "code",
   "execution_count": 17,
   "metadata": {
    "collapsed": false
   },
   "outputs": [
    {
     "name": "stdout",
     "output_type": "stream",
     "text": [
      "(x + y)\n"
     ]
    }
   ],
   "source": [
    "from theano import pp\n",
    "print pp(z)"
   ]
  },
  {
   "cell_type": "markdown",
   "metadata": {},
   "source": [
    "#Step3"
   ]
  },
  {
   "cell_type": "code",
   "execution_count": 18,
   "metadata": {
    "collapsed": true
   },
   "outputs": [],
   "source": [
    "f = function([x, y], z)"
   ]
  },
  {
   "cell_type": "code",
   "execution_count": 19,
   "metadata": {
    "collapsed": false
   },
   "outputs": [
    {
     "data": {
      "text/plain": [
       "array(28.4)"
      ]
     },
     "execution_count": 19,
     "metadata": {},
     "output_type": "execute_result"
    }
   ],
   "source": [
    "import theano.tensor as T\n",
    "x = T.dscalar('x')\n",
    "y = T.dscalar('y')\n",
    "z = x + y\n",
    "z.eval({x : 16.3, y : 12.1})"
   ]
  },
  {
   "cell_type": "code",
   "execution_count": 21,
   "metadata": {
    "collapsed": true
   },
   "outputs": [],
   "source": [
    "x = T.dmatrix('x')\n",
    "y = T.dmatrix('y')\n",
    "z = x + y\n",
    "f = function([x, y], z)"
   ]
  },
  {
   "cell_type": "code",
   "execution_count": 22,
   "metadata": {
    "collapsed": false
   },
   "outputs": [
    {
     "data": {
      "text/plain": [
       "array([[ 11.,  22.],\n",
       "       [ 33.,  44.]])"
      ]
     },
     "execution_count": 22,
     "metadata": {},
     "output_type": "execute_result"
    }
   ],
   "source": [
    "f([[1, 2], [3, 4]], [[10, 20], [30, 40]])"
   ]
  },
  {
   "cell_type": "code",
   "execution_count": 23,
   "metadata": {
    "collapsed": false
   },
   "outputs": [
    {
     "data": {
      "text/plain": [
       "array([[ 11.,  22.],\n",
       "       [ 33.,  44.]])"
      ]
     },
     "execution_count": 23,
     "metadata": {},
     "output_type": "execute_result"
    }
   ],
   "source": [
    "import numpy\n",
    "f(numpy.array([[1, 2], [3, 4]]), numpy.array([[10, 20], [30, 40]]))"
   ]
  },
  {
   "cell_type": "code",
   "execution_count": 24,
   "metadata": {
    "collapsed": false
   },
   "outputs": [
    {
     "name": "stdout",
     "output_type": "stream",
     "text": [
      "[    0.     2.  1026.]\n"
     ]
    }
   ],
   "source": [
    "import theano\n",
    "a = theano.tensor.vector() # declare variable\n",
    "out = a + a ** 10               # build symbolic expression\n",
    "f = theano.function([a], out)   # compile function\n",
    "print f([0, 1, 2])  # prints `array([0, 2, 1026])`"
   ]
  },
  {
   "cell_type": "code",
   "execution_count": 25,
   "metadata": {
    "collapsed": false
   },
   "outputs": [
    {
     "name": "stdout",
     "output_type": "stream",
     "text": [
      "[ 25.  49.]\n"
     ]
    },
    {
     "name": "stderr",
     "output_type": "stream",
     "text": [
      "DEBUG: nvcc STDOUT mod.cu\r\n",
      "   C:/Users/nuri/AppData/Local/Theano/compiledir_Windows-7-6.1.7601-SP1-Intel64_Family_6_Model_60_Stepping_3_GenuineIntel-2.7.9-64/tmpmxhr1x/14fe0c0d3d392da24f4b5198486428df.lib ���̺귯�� �� C:/Users/nuri/AppData/Local/Theano/compiledir_Windows-7-6.1.7601-SP1-Intel64_Family_6_Model_60_Stepping_3_GenuineIntel-2.7.9-64/tmpmxhr1x/14fe0c0d3d392da24f4b5198486428df.exp ��ü�� �����ϰ� �ֽ��ϴ�.\r\n",
      "\n"
     ]
    }
   ],
   "source": [
    "a = theano.tensor.vector()  # declare variable\n",
    "b = theano.tensor.vector()  # declare variable\n",
    "out = a ** 2 + b ** 2 + 2 * a * b  # build symbolic expression\n",
    "f = theano.function([a, b], out)   # compile function\n",
    "print(f([1, 2], [4, 5]))  # prints [ 25.  49.]"
   ]
  },
  {
   "cell_type": "markdown",
   "metadata": {},
   "source": [
    "#Basic Example"
   ]
  },
  {
   "cell_type": "markdown",
   "metadata": {},
   "source": [
    "##Tensor"
   ]
  },
  {
   "cell_type": "markdown",
   "metadata": {},
   "source": [
    "http://deeplearning.net/software/theano/library/tensor/basic.html#libdoc-basic-tensor"
   ]
  },
  {
   "cell_type": "markdown",
   "metadata": {},
   "source": [
    "##로지스틱 곡선"
   ]
  },
  {
   "cell_type": "code",
   "execution_count": 26,
   "metadata": {
    "collapsed": false
   },
   "outputs": [
    {
     "data": {
      "text/plain": [
       "array([[ 0.5       ,  0.73105858],\n",
       "       [ 0.26894142,  0.11920292]])"
      ]
     },
     "execution_count": 26,
     "metadata": {},
     "output_type": "execute_result"
    }
   ],
   "source": [
    "x = T.dmatrix('x')\n",
    "s = 1 / (1 + T.exp(-x))    \n",
    "logistic = function([x], s)\n",
    "logistic([[0, 1], [-1, -2]])"
   ]
  },
  {
   "cell_type": "code",
   "execution_count": 27,
   "metadata": {
    "collapsed": false
   },
   "outputs": [
    {
     "data": {
      "text/plain": [
       "array([[ 0.5       ,  0.73105858],\n",
       "       [ 0.26894142,  0.11920292]])"
      ]
     },
     "execution_count": 27,
     "metadata": {},
     "output_type": "execute_result"
    }
   ],
   "source": [
    "s2 = (1 + T.tanh(x / 2)) / 2\n",
    "logistic2 = function([x], s2)\n",
    "logistic2([[0, 1], [-1, -2]])"
   ]
  },
  {
   "cell_type": "markdown",
   "metadata": {},
   "source": [
    "##Computing More than one Thing at the Same Time"
   ]
  },
  {
   "cell_type": "code",
   "execution_count": 28,
   "metadata": {
    "collapsed": true
   },
   "outputs": [],
   "source": [
    "a, b = T.dmatrices('a', 'b')\n",
    "diff = a - b\n",
    "abs_diff = abs(diff)\n",
    "diff_squared = diff**2\n",
    "f = function([a, b], [diff, abs_diff, diff_squared])"
   ]
  },
  {
   "cell_type": "code",
   "execution_count": 29,
   "metadata": {
    "collapsed": false
   },
   "outputs": [
    {
     "data": {
      "text/plain": [
       "[array([[ 1.,  0.],\n",
       "        [-1., -2.]]), array([[ 1.,  0.],\n",
       "        [ 1.,  2.]]), array([[ 1.,  0.],\n",
       "        [ 1.,  4.]])]"
      ]
     },
     "execution_count": 29,
     "metadata": {},
     "output_type": "execute_result"
    }
   ],
   "source": [
    "f([[1, 1], [1, 1]], [[0, 1], [2, 3]])"
   ]
  },
  {
   "cell_type": "markdown",
   "metadata": {},
   "source": [
    "##Setting a Default Value for an Argument"
   ]
  },
  {
   "cell_type": "code",
   "execution_count": 31,
   "metadata": {
    "collapsed": false
   },
   "outputs": [
    {
     "data": {
      "text/plain": [
       "array(34.0)"
      ]
     },
     "execution_count": 31,
     "metadata": {},
     "output_type": "execute_result"
    }
   ],
   "source": [
    "from theano import Param\n",
    "x, y = T.dscalars('x', 'y')\n",
    "z = x + y\n",
    "f = function([x, Param(y, default=1)], z)\n",
    "f(33)"
   ]
  },
  {
   "cell_type": "code",
   "execution_count": 32,
   "metadata": {
    "collapsed": false
   },
   "outputs": [
    {
     "data": {
      "text/plain": [
       "array(35.0)"
      ]
     },
     "execution_count": 32,
     "metadata": {},
     "output_type": "execute_result"
    }
   ],
   "source": [
    "f(33, 2)"
   ]
  },
  {
   "cell_type": "markdown",
   "metadata": {},
   "source": [
    "#Default Values"
   ]
  },
  {
   "cell_type": "code",
   "execution_count": 34,
   "metadata": {
    "collapsed": false
   },
   "outputs": [
    {
     "data": {
      "text/plain": [
       "array(68.0)"
      ]
     },
     "execution_count": 34,
     "metadata": {},
     "output_type": "execute_result"
    }
   ],
   "source": [
    "x, y, w = T.dscalars('x', 'y', 'w')\n",
    "z = (x + y) * w\n",
    "f = function([x, Param(y, default=1), Param(w, default=2, name='w_by_name')], z)\n",
    "f(33)"
   ]
  },
  {
   "cell_type": "code",
   "execution_count": 35,
   "metadata": {
    "collapsed": false
   },
   "outputs": [
    {
     "data": {
      "text/plain": [
       "array(70.0)"
      ]
     },
     "execution_count": 35,
     "metadata": {},
     "output_type": "execute_result"
    }
   ],
   "source": [
    "f(33, 2)"
   ]
  },
  {
   "cell_type": "code",
   "execution_count": 36,
   "metadata": {
    "collapsed": false
   },
   "outputs": [
    {
     "data": {
      "text/plain": [
       "array(34.0)"
      ]
     },
     "execution_count": 36,
     "metadata": {},
     "output_type": "execute_result"
    }
   ],
   "source": [
    "f(33, w_by_name=1)"
   ]
  },
  {
   "cell_type": "code",
   "execution_count": 37,
   "metadata": {
    "collapsed": false
   },
   "outputs": [
    {
     "data": {
      "text/plain": [
       "array(33.0)"
      ]
     },
     "execution_count": 37,
     "metadata": {},
     "output_type": "execute_result"
    }
   ],
   "source": [
    "f(33, w_by_name=1, y=0)"
   ]
  },
  {
   "cell_type": "markdown",
   "metadata": {},
   "source": [
    "##Using Shared Variables"
   ]
  },
  {
   "cell_type": "code",
   "execution_count": 39,
   "metadata": {
    "collapsed": true
   },
   "outputs": [],
   "source": [
    "from theano import shared\n",
    "state = shared(0)\n",
    "inc = T.iscalar('inc')\n",
    "accumulator = function([inc], state, updates=[(state, state+inc)])"
   ]
  },
  {
   "cell_type": "code",
   "execution_count": 40,
   "metadata": {
    "collapsed": false
   },
   "outputs": [
    {
     "data": {
      "text/plain": [
       "array(0)"
      ]
     },
     "execution_count": 40,
     "metadata": {},
     "output_type": "execute_result"
    }
   ],
   "source": [
    "state.get_value()"
   ]
  },
  {
   "cell_type": "code",
   "execution_count": 41,
   "metadata": {
    "collapsed": false
   },
   "outputs": [
    {
     "data": {
      "text/plain": [
       "array(0)"
      ]
     },
     "execution_count": 41,
     "metadata": {},
     "output_type": "execute_result"
    }
   ],
   "source": [
    "accumulator(1)"
   ]
  },
  {
   "cell_type": "code",
   "execution_count": 42,
   "metadata": {
    "collapsed": false
   },
   "outputs": [
    {
     "data": {
      "text/plain": [
       "array(1)"
      ]
     },
     "execution_count": 42,
     "metadata": {},
     "output_type": "execute_result"
    }
   ],
   "source": [
    "accumulator(300)"
   ]
  },
  {
   "cell_type": "code",
   "execution_count": 43,
   "metadata": {
    "collapsed": false
   },
   "outputs": [
    {
     "data": {
      "text/plain": [
       "array(301)"
      ]
     },
     "execution_count": 43,
     "metadata": {},
     "output_type": "execute_result"
    }
   ],
   "source": [
    "state.get_value()"
   ]
  },
  {
   "cell_type": "code",
   "execution_count": 45,
   "metadata": {
    "collapsed": false
   },
   "outputs": [
    {
     "data": {
      "text/plain": [
       "array(-1)"
      ]
     },
     "execution_count": 45,
     "metadata": {},
     "output_type": "execute_result"
    }
   ],
   "source": [
    "state.set_value(-1)\n",
    "accumulator(3)"
   ]
  },
  {
   "cell_type": "code",
   "execution_count": 46,
   "metadata": {
    "collapsed": false
   },
   "outputs": [
    {
     "data": {
      "text/plain": [
       "array(2)"
      ]
     },
     "execution_count": 46,
     "metadata": {},
     "output_type": "execute_result"
    }
   ],
   "source": [
    "state.get_value()"
   ]
  },
  {
   "cell_type": "code",
   "execution_count": 48,
   "metadata": {
    "collapsed": false
   },
   "outputs": [
    {
     "data": {
      "text/plain": [
       "array(2)"
      ]
     },
     "execution_count": 48,
     "metadata": {},
     "output_type": "execute_result"
    }
   ],
   "source": [
    "decrementor = function([inc], state, updates=[(state, state-inc)])\n",
    "decrementor(2)"
   ]
  },
  {
   "cell_type": "code",
   "execution_count": 49,
   "metadata": {
    "collapsed": false
   },
   "outputs": [
    {
     "data": {
      "text/plain": [
       "array(0)"
      ]
     },
     "execution_count": 49,
     "metadata": {},
     "output_type": "execute_result"
    }
   ],
   "source": [
    "state.get_value()"
   ]
  },
  {
   "cell_type": "code",
   "execution_count": 50,
   "metadata": {
    "collapsed": false
   },
   "outputs": [
    {
     "data": {
      "text/plain": [
       "array(7)"
      ]
     },
     "execution_count": 50,
     "metadata": {},
     "output_type": "execute_result"
    }
   ],
   "source": [
    "fn_of_state = state * 2 + inc\n",
    "# The type of foo must match the shared variable we are replacing\n",
    "# with the ``givens``\n",
    "foo = T.scalar(dtype=state.dtype)\n",
    "skip_shared = function([inc, foo], fn_of_state, givens=[(state, foo)])\n",
    "skip_shared(1, 3)  # we're using 3 for the state, not state.value"
   ]
  },
  {
   "cell_type": "code",
   "execution_count": 51,
   "metadata": {
    "collapsed": false
   },
   "outputs": [
    {
     "data": {
      "text/plain": [
       "array(0)"
      ]
     },
     "execution_count": 51,
     "metadata": {},
     "output_type": "execute_result"
    }
   ],
   "source": [
    "state.get_value()"
   ]
  },
  {
   "cell_type": "markdown",
   "metadata": {},
   "source": [
    "##Brief Example"
   ]
  },
  {
   "cell_type": "code",
   "execution_count": 52,
   "metadata": {
    "collapsed": true
   },
   "outputs": [],
   "source": [
    "from theano.tensor.shared_randomstreams import RandomStreams\n",
    "from theano import function\n",
    "srng = RandomStreams(seed=234)\n",
    "rv_u = srng.uniform((2,2))\n",
    "rv_n = srng.normal((2,2))\n",
    "f = function([], rv_u)\n",
    "g = function([], rv_n, no_default_updates=True)    #Not updating rv_n.rng\n",
    "nearly_zeros = function([], rv_u + rv_u - 2 * rv_u)"
   ]
  },
  {
   "cell_type": "code",
   "execution_count": 53,
   "metadata": {
    "collapsed": true
   },
   "outputs": [],
   "source": [
    "f_val0 = f()\n",
    "f_val1 = f()  #different numbers from f_val0"
   ]
  },
  {
   "cell_type": "code",
   "execution_count": 54,
   "metadata": {
    "collapsed": true
   },
   "outputs": [],
   "source": [
    "g_val0 = g()  # different numbers from f_val0 and f_val1\n",
    "g_val1 = g()  # same numbers as g_val0!"
   ]
  },
  {
   "cell_type": "code",
   "execution_count": 55,
   "metadata": {
    "collapsed": true
   },
   "outputs": [],
   "source": [
    "nearly_zeros = function([], rv_u + rv_u - 2 * rv_u)"
   ]
  },
  {
   "cell_type": "markdown",
   "metadata": {},
   "source": [
    "##Seeding Streams"
   ]
  },
  {
   "cell_type": "code",
   "execution_count": 56,
   "metadata": {
    "collapsed": true
   },
   "outputs": [],
   "source": [
    "rng_val = rv_u.rng.get_value(borrow=True)   # Get the rng for rv_u\n",
    "rng_val.seed(89234)                         # seeds the generator\n",
    "rv_u.rng.set_value(rng_val, borrow=True)    # Assign back seeded rng"
   ]
  },
  {
   "cell_type": "code",
   "execution_count": 57,
   "metadata": {
    "collapsed": true
   },
   "outputs": [],
   "source": [
    "srng.seed(902340)  # seeds rv_u and rv_n with different seeds each"
   ]
  },
  {
   "cell_type": "markdown",
   "metadata": {},
   "source": [
    "##Sharing Streams Between Functions"
   ]
  },
  {
   "cell_type": "code",
   "execution_count": 58,
   "metadata": {
    "collapsed": true
   },
   "outputs": [],
   "source": [
    "state_after_v0 = rv_u.rng.get_value().get_state()\n",
    "nearly_zeros()       # this affects rv_u's generator\n",
    "v1 = f()\n",
    "rng = rv_u.rng.get_value(borrow=True)\n",
    "rng.set_state(state_after_v0)\n",
    "rv_u.rng.set_value(rng, borrow=True)\n",
    "v2 = f()             # v2 != v1\n",
    "v3 = f()             # v3 == v1"
   ]
  },
  {
   "cell_type": "markdown",
   "metadata": {},
   "source": [
    "##Copying Random State Between Theano Graphs"
   ]
  },
  {
   "cell_type": "code",
   "execution_count": 59,
   "metadata": {
    "collapsed": false
   },
   "outputs": [
    {
     "name": "stdout",
     "output_type": "stream",
     "text": [
      "By default, the two functions are out of sync.\n",
      "f1() returns  [ 0.72803009]\n",
      "f2() returns  [ 0.55056769]\n",
      "We now copy the state of the theano random number generators.\n",
      "f1() returns  [ 0.59044123]\n",
      "f2() returns  [ 0.59044123]\n"
     ]
    }
   ],
   "source": [
    "import theano\n",
    "import numpy\n",
    "import theano.tensor as T\n",
    "from theano.sandbox.rng_mrg import MRG_RandomStreams\n",
    "from theano.tensor.shared_randomstreams import RandomStreams\n",
    "\n",
    "class Graph():\n",
    "    def __init__(self, seed=123):\n",
    "        self.rng = RandomStreams(seed)\n",
    "        self.y = self.rng.uniform(size=(1,))\n",
    "\n",
    "g1 = Graph(seed=123)\n",
    "f1 = theano.function([], g1.y)\n",
    "\n",
    "g2 = Graph(seed=987)\n",
    "f2 = theano.function([], g2.y)\n",
    "\n",
    "print 'By default, the two functions are out of sync.'\n",
    "print 'f1() returns ', f1()\n",
    "print 'f2() returns ', f2()\n",
    "\n",
    "def copy_random_state(g1, g2):\n",
    "    if isinstance(g1.rng, MRG_RandomStreams):\n",
    "        g2.rng.rstate = g1.rng.rstate\n",
    "    for (su1, su2) in zip(g1.rng.state_updates, g2.rng.state_updates):\n",
    "        su2[0].set_value(su1[0].get_value())\n",
    "\n",
    "print 'We now copy the state of the theano random number generators.'\n",
    "copy_random_state(g1, g2)\n",
    "print 'f1() returns ', f1()\n",
    "print 'f2() returns ', f2()"
   ]
  },
  {
   "cell_type": "markdown",
   "metadata": {},
   "source": [
    "##A Real Example: Logistic Regression"
   ]
  },
  {
   "cell_type": "code",
   "execution_count": 2,
   "metadata": {
    "collapsed": false
   },
   "outputs": [
    {
     "name": "stdout",
     "output_type": "stream",
     "text": [
      " Initial model:\n",
      "[  4.50777963e-01  -9.59009294e-02   8.40004174e-03   7.85963651e-01\n",
      "   1.77518910e+00   5.71788918e-01  -9.48207695e-01   1.26680600e+00\n",
      "   9.19910619e-01  -4.92997009e-01  -2.38742364e-01  -6.13871694e-02\n",
      "  -1.22306760e+00   2.84916074e-01  -6.79788498e-01   9.89164824e-01\n",
      "  -9.85464406e-01  -3.46563223e-01  -1.19378848e+00   1.16695368e+00\n",
      "  -5.18670810e-01  -1.77892020e+00  -2.61933225e-01  -3.92883311e-01\n",
      "   2.80774697e-01  -2.72333026e-01  -7.59301466e-02   1.26383207e-02\n",
      "   8.38573509e-01   7.77308150e-01   5.26298633e-02   7.16793028e-01\n",
      "   2.96076612e-01   1.19518544e+00   2.24481255e-01   1.28567313e+00\n",
      "   1.20193723e-01  -1.47818733e-01   1.09512198e-01   1.34012420e+00\n",
      "   7.34299483e-01  -2.45885843e-01  -1.07467214e+00   1.14394356e-01\n",
      "  -1.12265582e+00   4.36133957e-02   2.49191570e-01   8.48152042e-02\n",
      "  -1.80973558e-01  -2.28094326e-01  -1.59386043e-01  -1.09733299e+00\n",
      "  -3.04443931e-01  -5.44803647e-01   7.83357983e-01  -1.58066532e+00\n",
      "   3.08574218e-01  -1.56541828e+00   6.08612165e-01   7.43068358e-01\n",
      "   1.71592415e+00  -1.08743703e+00  -6.07601867e-01  -9.22203141e-01\n",
      "  -8.31645353e-01   1.67376527e+00   3.76156829e-01   2.70055663e-01\n",
      "  -6.16831805e-01  -1.11499499e+00   3.30733035e-01   5.22582085e-01\n",
      "   1.76264653e+00   6.88069143e-01   1.06751090e+00   1.01509011e-01\n",
      "   7.71423398e-01  -3.05968696e-01  -3.31310021e-01  -1.25534413e+00\n",
      "  -5.79671300e-01   9.65594084e-01   6.84191347e-01   4.64132907e-01\n",
      "   2.12895737e-02   8.51747663e-01   3.86769560e-02  -1.31264990e+00\n",
      "  -7.07938754e-02  -2.57394527e+00  -2.30393007e+00   8.17828382e-01\n",
      "   1.39530762e-01  -1.78952342e+00  -5.77238558e-01   4.24611819e-02\n",
      "  -9.56947818e-01   3.61783552e-01   4.12371893e-01  -3.59713083e-01\n",
      "   6.16587140e-01   1.64401217e-01  -2.84578483e-01   7.42935746e-01\n",
      "  -1.28181929e+00   4.48360145e-01  -1.73135833e+00   4.99307705e-01\n",
      "  -3.92704178e-01   3.49198122e-02  -4.11107673e-01   6.87649143e-01\n",
      "  -1.37464646e-01   1.41014519e+00   6.83197946e-01  -1.38216038e+00\n",
      "   7.30498609e-01  -2.31441379e+00   1.94776834e+00  -7.89986031e-01\n",
      "   1.09606597e+00   6.75739633e-01  -6.24338617e-01   3.07083830e-01\n",
      "  -3.66169523e-01   1.52381469e+00  -1.34812589e+00  -1.07793341e+00\n",
      "   1.66905703e+00  -1.19685059e+00  -8.43466861e-02   3.66913118e-01\n",
      "  -2.35469416e+00   1.58589625e+00   1.65171204e+00   3.63224679e-01\n",
      "   1.07011865e+00  -6.26459326e-01   3.32495705e-03   1.92222299e-01\n",
      "  -6.39263592e-01   1.74664369e+00  -1.02703057e+00   1.47217561e+00\n",
      "  -2.80035341e-01  -1.48905306e+00  -3.39134413e-01  -1.06275886e+00\n",
      "  -1.53769857e+00   6.75308665e-03  -5.38627069e-01  -1.32716960e+00\n",
      "   9.12472630e-01   1.28248861e+00   1.95287547e-01   2.69669921e-01\n",
      "   2.30448486e-01  -1.22074221e+00  -7.81226302e-01  -9.00130569e-01\n",
      "  -7.00942501e-01  -1.72287008e-01  -8.02704484e-01  -1.68825990e+00\n",
      "  -1.33922563e+00   3.89814232e-01  -7.06207935e-01  -1.45488248e+00\n",
      "  -1.95711062e+00  -1.37781129e+00   8.01418934e-01  -1.71120293e-01\n",
      "  -4.50837890e-01  -8.02156212e-01  -1.21965463e+00  -3.78701209e-02\n",
      "   1.69975239e+00   3.33038511e-01   1.80973095e+00   1.13560733e-01\n",
      "  -1.57247640e-01  -1.60405340e+00  -1.23928756e+00  -4.21185489e-01\n",
      "  -6.91682353e-01   1.13131697e+00   1.61810357e+00   3.69996683e-01\n",
      "   1.58948768e+00  -2.82987944e+00  -6.32904525e-01  -2.72279115e-01\n",
      "   1.63142908e+00  -6.02743206e-01  -6.00260856e-01   4.15128480e-01\n",
      "   1.62861648e+00   9.29634188e-01  -1.90026351e+00  -5.96340204e-02\n",
      "   7.36652706e-01  -9.97974614e-01   8.86683245e-01   2.76625626e-01\n",
      "  -9.13939822e-01  -2.17555712e+00  -7.37029885e-01  -1.02393185e+00\n",
      "   7.18257236e-01  -9.39132658e-01   3.79642041e-01   1.52693674e-01\n",
      "  -5.10108915e-01   1.58021897e-01  -3.44172666e-01   3.40535627e-01\n",
      "  -9.21405821e-02   8.86957301e-01  -8.76805274e-01   1.03593658e-01\n",
      "  -1.78961295e+00  -2.09702745e+00   1.11535536e+00  -1.98817856e+00\n",
      "   6.01428121e-01   5.71758607e-01  -9.01066330e-01  -7.68216270e-01\n",
      "   4.96442210e-01  -1.39914391e-02   6.11854099e-01   1.07424092e+00\n",
      "   4.87861591e-01  -1.25105673e+00  -1.95428298e+00   1.55669321e-01\n",
      "   1.60073862e+00   9.74495698e-01  -1.76319641e+00   5.12807053e-01\n",
      "  -3.49209743e-01  -9.02258285e-01   7.18450527e-01  -3.62111929e-01\n",
      "  -7.35390775e-01   1.79484435e+00   8.49247033e-01  -8.33640830e-01\n",
      "  -1.42231442e+00  -2.12715545e+00   9.39729808e-01  -9.26285892e-02\n",
      "  -6.43158299e-01   6.91051311e-01   1.41880686e-02  -9.00957984e-01\n",
      "  -1.22299010e-01   1.53570054e-01   3.37929321e+00  -2.15821438e-01\n",
      "   5.17315716e-02   1.13419912e+00   1.43466850e+00   9.11422990e-01\n",
      "   1.07837762e-01   8.22276396e-01  -1.88112277e+00  -2.76460632e-01\n",
      "   1.62782809e-01   1.36923289e-01  -1.02659497e+00   5.06547847e-01\n",
      "   3.16302934e-01  -1.70954257e+00  -8.68042507e-01   5.61000310e-01\n",
      "   1.30464636e+00  -3.62841980e-01  -8.19313547e-01  -2.00191103e+00\n",
      "   1.07287633e+00  -5.24089288e-03   2.06484492e-01  -3.58948529e-01\n",
      "   1.15561601e+00  -8.85355268e-01  -1.36736015e+00   1.73658655e-01\n",
      "   1.11351607e+00  -8.22550409e-01  -7.82134101e-01  -9.74939238e-01\n",
      "   2.26739521e-01   1.43059817e+00  -7.43676200e-01   1.90878491e+00\n",
      "  -4.49358949e-01  -1.84916495e-01  -6.32860226e-01  -1.51461059e+00\n",
      "   8.43152210e-01  -3.58014854e-01  -1.29318114e+00   1.06801361e+00\n",
      "   1.26042018e+00   3.43364994e-01   2.02870578e-01   1.19227886e+00\n",
      "  -1.06617793e+00  -9.86573560e-01   1.97079707e-01  -1.22367476e+00\n",
      "   9.60008086e-01  -1.26773092e+00   3.40885942e-01  -2.90265101e-01\n",
      "  -1.62637534e+00   7.71199276e-01   6.74319997e-01  -7.11766743e-01\n",
      "  -4.65611737e-02  -9.46075555e-01  -6.86664339e-01  -5.65183319e-01\n",
      "  -1.23105546e+00  -2.68679242e+00  -1.26100151e+00   4.69711362e-01\n",
      "  -1.47727803e+00  -6.95516851e-01   6.63243601e-01  -1.45786809e+00\n",
      "  -7.02254866e-01   3.93565622e-01  -2.92108905e-01  -2.76391197e-01\n",
      "   4.95214492e-02  -1.23878029e+00  -3.19871625e-01   1.50533824e+00\n",
      "  -1.10943867e+00   1.37721081e+00   1.06408573e+00   5.83708559e-01\n",
      "   1.13328098e+00  -5.64336620e-01   1.12221346e+00  -8.58769158e-02\n",
      "   1.34871654e+00   1.42025209e+00  -4.81833320e-01   1.10385474e+00\n",
      "  -2.14168166e+00   1.87397524e-01   9.96316900e-01  -1.39567593e-01\n",
      "  -2.29270888e-01  -6.79879413e-01   1.33318659e+00   2.97313045e+00\n",
      "  -3.63133336e-01  -1.61616874e+00   8.60570500e-01  -8.40437847e-01\n",
      "  -8.23624941e-01   9.86036590e-01  -8.06797225e-01   7.45197949e-01\n",
      "   1.21558118e+00  -4.51801427e-01  -3.36964709e-01   2.85522917e-01\n",
      "  -2.11731602e-01   4.42142727e-01   9.52766362e-02  -8.60078698e-01\n",
      "   1.24882586e+00   1.18764651e+00   2.27398855e-01  -1.41231314e+00\n",
      "   1.02868866e+00   1.48760554e+00   4.46225943e-01   2.90579277e-01\n",
      "  -5.50396450e-01   1.57563043e+00  -4.17036915e-01   2.86082952e-01\n",
      "   3.15165604e-01  -1.70974137e+00   4.09853383e-01   7.87501188e-01\n",
      "  -6.39300915e-01  -1.82552232e+00   8.63164543e-01  -5.87375660e-01\n",
      "  -1.47322618e+00   7.49423390e-01  -1.14358730e+00   2.90669159e-01\n",
      "   1.29136673e-01  -8.10934092e-01   3.34488844e+00   2.90837893e-01\n",
      "  -4.89016702e-01  -2.51105239e-02   1.13578575e+00   2.47689335e-01\n",
      "  -1.23529975e-01  -1.98022302e+00   3.91700189e-01   1.04492731e+00\n",
      "   8.97210665e-02   1.34039574e+00  -2.44851404e+00   1.29947639e+00\n",
      "   1.97195356e+00   6.87332578e-01   1.16537675e+00   1.25309498e-01\n",
      "  -2.43027116e+00   1.68856092e+00  -9.80319423e-01  -2.91566936e-01\n",
      "  -1.58813478e-01   6.82779039e-01  -1.03818308e+00  -9.47858515e-02\n",
      "  -8.41436295e-01   1.92235028e+00  -1.15032309e+00  -3.25490427e-01\n",
      "   5.91902906e-01   2.32137069e-01   8.23920193e-01   2.31491620e-01\n",
      "  -1.74621053e-01  -4.88984335e-01   5.10473469e-01  -3.97790355e-01\n",
      "  -1.81908220e-01  -2.53106331e-01  -7.78948853e-01  -2.04948659e-01\n",
      "  -1.62535114e+00  -1.43329257e+00  -1.97312622e-01  -3.65002715e-01\n",
      "  -8.35779567e-01   5.50185746e-01   5.02483274e-01  -2.12677308e-01\n",
      "   7.87725207e-01   2.40776049e-01  -4.69644511e-01  -1.76804534e+00\n",
      "  -1.40932799e-02   1.55736250e+00   5.78212343e-01   1.06434260e+00\n",
      "   1.78761927e-01   6.49570074e-01   7.28645250e-01  -6.62855354e-01\n",
      "   1.08499439e+00   6.05424567e-01  -1.77801470e+00   3.12757449e-01\n",
      "  -1.33339313e-01   1.93900959e+00   7.32391920e-01  -2.75782880e-01\n",
      "  -5.47598566e-01  -4.51056264e-01  -7.23936992e-01  -3.63784992e-01\n",
      "  -1.00263792e-01  -1.55218507e-01   1.86175788e+00  -4.41870446e-01\n",
      "   1.20113275e+00   1.15313444e-01   3.76810094e-01   1.34440661e+00\n",
      "  -1.33926234e+00   6.00452785e-01  -1.17516594e+00   1.23614983e+00\n",
      "  -6.33478949e-02  -2.58415926e-01   1.58517017e+00  -2.43699918e-01\n",
      "   9.95812208e-01  -3.87329984e-02   9.61279597e-01   1.44311956e-01\n",
      "  -5.22520066e-01  -8.65611636e-01  -4.37984072e-01   3.07229704e-01\n",
      "  -4.58993353e-01  -6.61169795e-01  -5.58508015e-01   2.91288655e-01\n",
      "  -4.07286019e-01  -1.27117263e+00   1.30518596e+00  -7.21662029e-01\n",
      "   1.34163250e-01  -2.91945463e-01  -8.24723113e-02  -1.20858220e-02\n",
      "   1.18719842e+00  -1.01422748e+00  -9.87297741e-01  -2.03590301e-01\n",
      "  -6.69738574e-01   5.41081582e-01  -1.08047104e+00  -1.53332628e-01\n",
      "   3.79488026e-01   1.14228757e+00  -1.84713591e+00   4.69300415e-03\n",
      "  -2.65464128e-01   1.39300759e+00  -2.67567780e-01   4.10572080e-01\n",
      "   6.21119325e-02   1.42765177e+00  -3.72683537e-02  -1.19423702e+00\n",
      "   2.89745449e-01  -5.06025169e-01  -1.24754022e+00  -2.10432615e+00\n",
      "   4.91000793e-01   9.00450620e-01  -1.18739137e+00   8.61276948e-01\n",
      "  -1.22044690e+00   8.29780660e-01  -8.22088456e-01   5.55122794e-01\n",
      "  -2.10644951e-01   5.72871050e-01   1.46551712e+00  -2.67350950e-01\n",
      "  -1.58346415e+00   1.08327637e+00   8.18058837e-02   7.57857165e-01\n",
      "  -1.78776262e-01  -2.67488924e-02   8.79526931e-01  -7.12423869e-01\n",
      "  -9.66799111e-01   5.74505099e-01   3.24137435e-01   7.04675387e-02\n",
      "   7.72471173e-01   9.70274695e-01  -1.45710170e-01   4.63056398e-01\n",
      "   1.31757901e+00   5.99841413e-02   7.33079906e-01   8.28241725e-01\n",
      "  -1.35827973e-01  -1.39487768e-02  -1.40082871e+00   2.49274441e+00\n",
      "   2.27979004e+00   5.09586240e-01   3.00752926e-01  -1.14894614e+00\n",
      "   1.46556423e+00  -1.27520668e+00  -8.40735987e-01   2.89917181e-01\n",
      "  -8.40476524e-01   1.11323715e+00   2.88781764e-01   5.22185458e-01\n",
      "  -4.97828172e-01   1.05590561e+00   1.25764988e-01   1.12442994e-01\n",
      "  -1.20186423e+00  -3.84226272e-01   3.13674778e-01  -9.18425537e-01\n",
      "   5.09087493e-01  -1.52009147e+00   1.38245895e+00  -5.20786247e-01\n",
      "   2.37595556e+00   9.51338029e-01   2.82665419e-01  -1.37157324e+00\n",
      "  -1.35746454e-01  -1.43858833e-01  -2.49853842e-01   6.39811463e-01\n",
      "   2.79469885e-01   4.56969173e-01   3.67977202e-01  -2.08072744e+00\n",
      "  -8.07544263e-01   1.31560357e+00  -3.22527861e-01   6.85285062e-01\n",
      "  -9.83105848e-01   2.76042004e-01   1.32089596e+00   5.49613795e-01\n",
      "  -6.64449497e-01  -1.53459093e+00   2.47060494e-01   1.20796533e+00\n",
      "  -2.64803563e-01   1.02664203e+00   1.70279575e+00  -4.82958856e-01\n",
      "  -1.64395391e-01   4.30576892e-01   1.26768659e+00  -7.40606585e-03\n",
      "  -1.70663401e+00  -1.08059028e+00   5.40995146e-01   7.60077354e-01\n",
      "  -5.36425780e-01  -9.84819417e-01  -2.14878384e-01  -1.09713506e+00\n",
      "   2.74711531e-02   1.94660458e-02   2.04258680e-01  -1.28814159e+00\n",
      "  -1.52781000e+00   4.45398696e-01   8.46245867e-01  -5.91781300e-01\n",
      "   2.72937294e+00  -4.82711813e-03   2.41678413e-01  -7.47243635e-01\n",
      "   6.87103725e-01  -3.95456621e-01   4.39901467e-01   2.91158468e-01\n",
      "   4.44631118e-01  -2.15029885e-01   7.15512804e-01   7.72635838e-01\n",
      "   3.64533739e-01   4.82789453e-01   1.95810926e-01   1.83483767e+00\n",
      "  -1.71301031e-01  -1.68130137e-01  -1.31908742e+00  -4.16279877e-01\n",
      "  -5.61642281e-01   1.61818876e+00   3.85748512e-01  -7.17965060e-01\n",
      "   9.53993468e-01  -1.92599990e-01   2.11946471e-01   3.33363086e-01\n",
      "   2.50135658e-01  -1.06320172e-01   6.27264930e-01  -4.63263640e-01\n",
      "   2.53746034e-01   9.59093422e-01   8.46828139e-01  -1.68765718e+00\n",
      "  -1.35746604e+00   1.70583576e-01   8.04163300e-01  -6.11160306e-01\n",
      "  -3.10209342e-02   5.93755241e-01  -2.54406396e+00   1.85987349e-01\n",
      "  -2.75777544e-01  -8.46687113e-01  -1.12296348e+00  -7.57393082e-01\n",
      "   1.00607305e+00  -1.23883441e+00   3.89425719e-01  -1.61695585e+00\n",
      "   1.14244452e+00   3.54784757e-01   9.29131940e-01   1.22549351e+00\n",
      "   2.76461630e-01   1.74809573e+00   6.76456992e-01  -1.42326316e+00\n",
      "  -2.26396262e+00  -1.21751368e+00   4.08105903e-02  -5.71208751e-01\n",
      "  -7.76288701e-01   4.08906501e-01  -7.97963775e-01  -1.14779384e+00\n",
      "  -5.42487922e-01   5.01664722e-01  -1.10875121e+00   1.57434156e+00\n",
      "  -1.68281631e+00  -2.65772315e-02  -5.02771588e-01  -7.95499671e-01\n",
      "   4.02277612e-01   1.23429817e+00  -6.59618268e-01   3.86671769e-01\n",
      "  -5.62394334e-02  -2.21927651e+00   3.89386910e-01   1.63409794e+00\n",
      "   1.68031080e+00  -1.65627948e+00  -1.02361904e-01   2.07283755e+00\n",
      "  -6.13195158e-01   2.10338752e+00   2.16389175e+00  -4.27495725e-01\n",
      "   9.83937097e-01  -1.03418534e-01   6.32492151e-01  -1.38121367e+00\n",
      "  -1.59428829e+00   1.19552729e+00   5.83509385e-01  -1.39898947e-02\n",
      "   2.96651667e-01   1.60980292e+00   1.41852894e+00  -3.05590727e+00\n",
      "  -6.56755113e-01  -2.82412267e-01   1.06778756e+00  -9.10286432e-01\n",
      "  -6.32595403e-02   3.01938531e-01   3.64571091e-01   1.56957785e+00\n",
      "   4.82012958e-01   5.15209170e-01  -7.71767262e-01  -4.03005529e-01\n",
      "  -4.42002767e-01   2.40739209e+00  -9.72405072e-01  -8.40701461e-01\n",
      "  -5.20512066e-02   1.43983074e-01  -1.15854404e+00  -2.38607215e-01\n",
      "   6.08274812e-01  -2.47002509e-01   1.63343015e+00  -1.21174207e+00\n",
      "  -6.47547513e-01   7.56377858e-01   6.26553748e-01  -3.85659920e-01\n",
      "  -4.99176075e-01  -1.94988523e+00   4.51902294e-01  -3.70978606e-02\n",
      "  -1.15833762e+00  -7.41475920e-01   1.61271127e+00  -1.32655662e+00] 0.0\n",
      "Final model:\n",
      "[ -6.12363180e-02  -2.89904847e-02   4.07370899e-02   6.38860948e-02\n",
      "  -1.48815529e-01   2.32701498e-02   1.17871626e-01  -8.80842595e-02\n",
      "   7.25797929e-02   8.79017310e-03   8.86436715e-02  -1.54112461e-01\n",
      "  -1.21998959e-01   1.85915527e-02  -4.27134922e-02  -1.97878782e-02\n",
      "   1.00086164e-01   7.23855882e-02  -7.83863817e-02  -2.11688191e-02\n",
      "  -1.81979342e-02  -1.00730192e-01   9.71155730e-02   4.11748527e-02\n",
      "  -3.56653811e-04   2.94868893e-02   7.81411762e-02   1.51109359e-02\n",
      "  -3.07625880e-02  -4.46105351e-02  -4.08056318e-02  -7.64832534e-02\n",
      "   1.08545115e-01   4.13559172e-04   7.15206517e-02  -1.12839709e-01\n",
      "  -2.15196979e-01  -3.27414724e-02   2.56496787e-02  -1.19841159e-02\n",
      "  -7.26586609e-02   7.72755227e-02  -9.39602355e-02  -1.37793828e-01\n",
      "  -1.46844977e-01  -1.54198395e-02   1.39828580e-01   2.58516255e-01\n",
      "  -8.32070129e-02  -1.33825232e-02   9.64845370e-02   6.04042920e-02\n",
      "  -7.20378584e-02  -1.06036097e-01   7.98899820e-02  -4.38883990e-02\n",
      "   1.27285686e-01   6.22113503e-02   1.54616012e-02   4.74574908e-02\n",
      "  -6.43818024e-02   5.99687364e-02   5.78992456e-02  -1.04744919e-01\n",
      "   3.53405117e-02  -6.86661491e-03   7.03228548e-02   5.84545169e-03\n",
      "  -1.26957835e-01   7.80322111e-02   2.61820122e-02   5.54378104e-02\n",
      "  -1.03492313e-01   1.01401238e-01   6.14576062e-02  -1.43046997e-01\n",
      "   3.53952372e-02   7.75660210e-02   1.47289206e-01  -1.05177993e-01\n",
      "  -1.00504756e-01  -2.51206894e-02   1.59381593e-01  -5.65031825e-02\n",
      "  -3.52427557e-02   6.77107053e-02   1.07033822e-01   4.75623100e-02\n",
      "   1.35704892e-01  -3.59959617e-02   1.52499096e-01   5.05205686e-02\n",
      "   2.82522275e-02   2.65455583e-02  -3.83259895e-02  -4.81998612e-02\n",
      "  -3.21687230e-03  -4.94123950e-02   5.97521512e-02   5.62714263e-02\n",
      "   3.19267869e-03   1.28039013e-02   1.42501036e-02   3.82250865e-02\n",
      "   1.93695323e-03   1.18520003e-01  -7.92700541e-02  -4.56133916e-02\n",
      "  -9.38941046e-03  -5.60698224e-02   6.87393965e-02  -4.81116020e-02\n",
      "   5.56722750e-02   8.75315543e-02  -1.32448268e-01   2.96285519e-02\n",
      "   1.38931682e-01   3.93907628e-02  -2.98547917e-02  -3.96875880e-02\n",
      "  -6.10156661e-03  -1.10260298e-01   2.46652510e-02  -7.85010023e-02\n",
      "   1.12476730e-01   4.64809071e-04   9.93520521e-02  -1.95849527e-02\n",
      "   1.45756139e-01   2.29184174e-01   2.92683125e-02   2.10993870e-02\n",
      "   7.41812662e-02   2.50773089e-03  -3.89993215e-02   1.66194059e-02\n",
      "  -5.63507806e-02   5.42432823e-02   6.86470080e-02  -1.10472995e-02\n",
      "   1.12897278e-01   2.07878843e-01  -1.63135071e-01   1.58624821e-01\n",
      "   1.68540443e-02   8.03762980e-02  -1.33439991e-02  -3.36538922e-02\n",
      "  -6.13617524e-02   1.58323648e-02  -2.17633129e-01  -4.06201461e-02\n",
      "  -1.06895921e-01   1.72970252e-01  -6.11696028e-02   4.24352254e-03\n",
      "  -1.85921777e-01   2.38071764e-02  -1.81852643e-01   1.26315746e-02\n",
      "  -4.90612610e-04  -9.61551912e-02  -6.59142490e-02   8.60866455e-03\n",
      "  -2.15327490e-02   3.21817259e-02   7.11247636e-02  -1.48864951e-01\n",
      "   9.30721973e-02  -6.87197927e-02   1.13865953e-01   1.10025629e-01\n",
      "   1.68694007e-01   5.59433935e-03  -4.82965016e-02   1.26884164e-01\n",
      "   2.23020343e-01   2.13247748e-02  -1.00213835e-01   7.49010131e-02\n",
      "  -1.47902145e-01   7.63288062e-02  -7.45698115e-02  -5.13974633e-02\n",
      "  -5.00515194e-03  -8.46495920e-02   1.58028153e-02  -1.36480381e-01\n",
      "   3.17493216e-02  -4.01592702e-02  -1.23500967e-01  -4.63253397e-02\n",
      "  -4.30710933e-02  -2.39750653e-02   1.28184821e-02   5.88526609e-02\n",
      "  -7.04978730e-02   4.81009980e-02  -7.65143761e-03  -1.28884115e-01\n",
      "  -6.56941734e-02  -9.19792283e-02   2.76085828e-02  -4.86568148e-03\n",
      "   1.12318561e-01   8.02239616e-03  -1.50942732e-01   2.12544221e-01\n",
      "  -5.80575873e-02  -6.06101220e-02   9.65084893e-02  -6.57100729e-02\n",
      "   1.60381962e-01  -7.88390437e-02   2.07446006e-03   1.02621832e-02\n",
      "   2.34683993e-02  -1.18694892e-01  -2.13675593e-02  -7.96751966e-02\n",
      "  -9.32061357e-02  -9.20438347e-02  -5.84878466e-02   2.67997524e-02\n",
      "   2.20859220e-02   1.35868772e-01  -1.88469471e-02   4.14955316e-02\n",
      "  -5.62623042e-02   9.54558821e-02  -5.74975945e-04  -2.04064377e-03\n",
      "  -1.43239369e-01  -4.19615310e-03  -3.04453520e-02   3.21159225e-03\n",
      "   1.27383904e-02   1.98346452e-02  -2.77338339e-02  -9.58619287e-02\n",
      "  -7.66930203e-03  -1.82187481e-01   5.56300784e-02   4.45124624e-02\n",
      "  -1.96445988e-01   7.65124962e-02  -2.63701460e-02  -8.85827148e-02\n",
      "   9.30402675e-02   3.47153350e-02  -4.12950096e-02  -1.21021778e-01\n",
      "  -1.11421367e-01  -1.13080809e-01  -1.17292351e-01  -5.72954349e-04\n",
      "  -1.77310723e-01   1.15953193e-02  -2.40737867e-02  -6.77005862e-02\n",
      "  -5.50964191e-02   3.90636553e-02  -2.20264784e-01   1.39371153e-01\n",
      "   1.42279930e-01   6.63428610e-02   1.41604827e-01   6.81469898e-02\n",
      "   1.53081304e-01  -1.14744920e-01   9.75747617e-02   1.56528421e-01\n",
      "  -1.33545739e-01   1.02843739e-01  -7.80978316e-02  -5.91113833e-02\n",
      "  -2.55348886e-02   3.44685446e-02  -5.62642987e-02   1.14370532e-01\n",
      "   2.91013286e-02  -6.82820358e-02   1.03643638e-01   9.86063819e-02\n",
      "  -1.60824602e-02   1.89933692e-01   1.10093521e-01   1.16872012e-01\n",
      "   6.23047021e-02  -1.58929080e-01  -7.75843521e-02  -1.13039884e-01\n",
      "   2.36184731e-01   1.67502245e-02  -3.07535403e-02  -6.92988862e-02\n",
      "  -1.48011982e-02  -5.71419993e-02   1.06520825e-02   7.08932196e-02\n",
      "   9.85014800e-02   1.77348722e-01   7.05656171e-02   1.41548326e-01\n",
      "  -1.49399733e-03  -4.82674703e-02   3.02764478e-02   1.22758288e-03\n",
      "   1.25836624e-01   1.34617366e-03  -3.28328129e-02   2.29655639e-02\n",
      "  -5.09696646e-03  -1.23447920e-01   1.05605181e-02  -2.29405767e-02\n",
      "  -2.83820731e-01  -9.46506554e-02  -3.25068987e-02   4.89534062e-02\n",
      "   9.61563833e-02  -8.05441890e-02  -1.05996773e-02  -1.16650503e-01\n",
      "  -1.80202736e-01  -7.99936087e-03  -5.55046581e-02  -4.09729497e-02\n",
      "  -3.52042289e-02  -1.12178787e-01  -1.77875803e-01   3.93459716e-03\n",
      "  -2.02614312e-03   1.29128108e-01   5.39228524e-02  -1.82411015e-02\n",
      "  -5.92362774e-02   5.56401760e-02   5.14404944e-02   1.48881623e-01\n",
      "   4.65632860e-02   9.68668911e-02  -1.49444311e-02   1.07556176e-01\n",
      "   1.06145587e-01  -1.05746962e-01  -2.04596940e-02   1.86266403e-01\n",
      "  -6.16750321e-02  -3.78284696e-02   8.27276074e-02   5.31844942e-02\n",
      "  -1.29221138e-02   1.62024438e-01   4.33655652e-02  -2.13773804e-02\n",
      "   2.69525676e-02   1.09509314e-01   1.02682429e-01  -6.23306800e-02\n",
      "  -9.70907361e-02   1.00404608e-01   1.36548112e-01  -2.79207024e-03\n",
      "  -1.08681788e-01   1.28854429e-01   1.36619649e-02   2.96612570e-01\n",
      "  -5.76748286e-02  -1.62025542e-01   1.07245374e-01   1.03335287e-02\n",
      "  -2.85945714e-02  -2.81319828e-02   4.87008065e-02   7.21792364e-03\n",
      "  -3.19610759e-02   1.25703908e-01  -4.24188263e-03  -5.91919412e-02\n",
      "   6.25013878e-02   3.69131777e-02  -3.66667099e-02   1.26453041e-03\n",
      "   4.67149461e-02   7.05148478e-02  -6.89271180e-02   6.51805482e-02\n",
      "   1.55489868e-01  -1.25244915e-01  -5.67939107e-02  -1.23036872e-01\n",
      "   2.11816369e-01  -4.24705084e-02  -1.20639479e-01   3.03088643e-02\n",
      "   2.79395177e-02   4.38297020e-02  -2.61804432e-02   5.66883055e-02\n",
      "  -4.21137886e-02  -1.31609210e-02   5.67148993e-02  -5.56525215e-02\n",
      "   4.50446046e-02   2.55691286e-02  -5.07180635e-02   8.89904946e-03\n",
      "  -4.41477826e-02  -4.23782817e-02   6.91382391e-02  -3.87112565e-02\n",
      "   2.86521634e-02  -2.40057293e-02   6.28876683e-03  -2.21584311e-01\n",
      "   9.17945958e-02  -6.33135770e-02  -1.30754173e-01  -1.06557775e-01\n",
      "   7.01356054e-02  -1.81118506e-02   3.46385772e-02  -1.29128771e-01\n",
      "   1.19409228e-01   2.88940261e-02   7.99547979e-02   5.57841308e-02\n",
      "   1.19270415e-01  -7.18350027e-02   3.17480863e-02  -3.92254374e-02\n",
      "   5.10822211e-03   4.42225244e-02   4.63264789e-02  -1.54912729e-01\n",
      "   3.05111782e-02   1.65768636e-01  -7.52956948e-03  -8.16085319e-02\n",
      "   4.77417942e-02  -7.98516075e-03  -2.02895485e-02   3.09210166e-02\n",
      "   2.03959484e-01  -4.90708534e-02  -7.41272714e-02   6.62916325e-02\n",
      "  -9.54197757e-03   9.48510157e-02  -1.53499405e-02  -6.03107769e-02\n",
      "   1.90764050e-01   3.19925164e-02  -1.38007211e-01  -1.11007352e-01\n",
      "  -9.80941467e-03   1.03771084e-01  -2.58404453e-03  -1.03991832e-01\n",
      "  -9.20918589e-03  -2.76456301e-03   8.50996881e-03  -6.35254060e-02\n",
      "   8.71128022e-02   9.90491662e-02   1.04275819e-01   3.61528896e-02\n",
      "   9.40433370e-02  -6.40656461e-02  -3.83345687e-02  -1.39871478e-02\n",
      "   5.16643094e-02   1.71157275e-02  -9.75382653e-02  -2.82625178e-02\n",
      "   4.05884452e-02  -1.77485756e-02   8.72111553e-02  -7.02576429e-02\n",
      "   1.23131661e-01  -1.17202371e-01  -3.37996207e-02  -6.91755687e-02\n",
      "  -4.11117278e-02   8.34641022e-02  -6.35942894e-02  -1.14966818e-01\n",
      "   8.82673229e-02   5.53408973e-02   1.85492301e-02   1.95709247e-02\n",
      "  -2.72148208e-02  -4.99068990e-02  -1.06951579e-01  -2.15285454e-02\n",
      "  -1.46289937e-01  -7.85493757e-03  -1.39798544e-01   1.07758053e-01\n",
      "   1.52280278e-02  -7.31302390e-02   5.31867270e-02  -2.45254084e-02\n",
      "   1.15214114e-01   9.23688148e-02  -5.26677071e-03   2.45041506e-02\n",
      "   1.55024046e-02   3.82554401e-02  -1.20525722e-01  -1.20733264e-02\n",
      "  -5.44214148e-02   8.09637022e-02  -6.97974936e-03   1.06631203e-01\n",
      "   7.82885245e-02   2.97977128e-02   1.00675836e-01  -1.41294811e-01\n",
      "  -4.44556785e-03   1.00964508e-02  -5.11220960e-02  -9.73474139e-02\n",
      "  -3.24076488e-01  -9.03814075e-02  -5.73491563e-02   1.15764258e-01\n",
      "   5.90077507e-02  -7.61685051e-02   8.89258840e-02  -8.39991738e-02\n",
      "   1.04516236e-02  -7.64170852e-02  -1.06616129e-01   6.85906099e-02\n",
      "  -7.20480985e-02   1.40100779e-01   9.23317066e-02   2.36523000e-02\n",
      "   2.20263265e-01  -5.60171426e-02   9.46176838e-02  -1.75971946e-03\n",
      "  -6.48968366e-02   1.64288643e-02  -1.86772085e-02   7.06570415e-02\n",
      "   1.56920119e-01   1.74900416e-01  -6.21646350e-04  -7.46755316e-02\n",
      "   2.34914871e-02  -2.26681553e-02  -2.21126717e-01  -3.57151318e-02\n",
      "  -4.97413913e-02   4.81036281e-02  -3.44906068e-02  -1.87997841e-01\n",
      "  -4.04381852e-02  -7.98204190e-02  -1.15236164e-01  -7.76507604e-02\n",
      "  -1.67006997e-01  -1.09615986e-01  -7.10150471e-02  -9.75233452e-02\n",
      "  -3.53241236e-02   7.40360351e-02   2.01082461e-02  -3.62888484e-02\n",
      "  -6.21781085e-02  -8.02671532e-02   8.63860875e-02   2.82596468e-02\n",
      "  -4.30016552e-02   3.29958692e-02  -2.86391939e-02  -8.20170979e-02\n",
      "   2.01009165e-02  -6.06495511e-02  -9.68764570e-02   1.66457410e-01\n",
      "   3.49868039e-02   3.89820389e-02  -8.95191454e-02   4.66227208e-02\n",
      "   3.77192989e-02  -7.30520174e-02  -1.90167986e-01  -4.03645920e-02\n",
      "  -6.81576264e-02   1.27721999e-01  -1.21675420e-02  -9.82021730e-02\n",
      "   6.98507658e-02  -1.37388682e-01   6.21122285e-02  -9.49708504e-02\n",
      "   1.06855472e-02   9.15815274e-02   8.66781374e-02  -2.14273271e-02\n",
      "  -6.79672408e-02  -3.22390049e-03   1.73262377e-02  -5.60808708e-02\n",
      "   1.13306044e-01   1.78147571e-01  -1.85925835e-02  -7.72840013e-02\n",
      "  -1.37143287e-01   1.76079123e-02   1.74190279e-01   1.96818859e-03\n",
      "   7.77497530e-02   4.53961597e-02  -5.87326338e-02  -6.50134570e-02\n",
      "   5.92793590e-02   2.31987609e-02  -1.15179219e-01  -4.89657904e-02\n",
      "  -2.43674570e-01   8.95011269e-02   3.76560987e-02   1.71805163e-02\n",
      "  -7.28596213e-02  -5.98760360e-02   1.38062579e-01  -7.67985364e-02\n",
      "   3.88870077e-03  -2.24621907e-02  -2.40314188e-02   1.84360575e-02\n",
      "  -8.55314011e-02   6.14957020e-02   1.58153505e-01   1.87576393e-01\n",
      "  -1.44038686e-01  -4.04909184e-02  -5.13213334e-02   1.35648706e-02\n",
      "   5.79145169e-02   1.70372242e-01  -5.28017565e-03  -3.01733767e-02\n",
      "   1.12031870e-01  -7.26310957e-02   2.10236424e-01  -4.41384784e-02\n",
      "  -3.82261690e-02  -1.84924258e-01  -4.59022706e-02   5.21286904e-03\n",
      "   5.21852802e-02  -2.17094290e-01  -2.58337688e-02  -1.23754439e-01\n",
      "  -6.19545805e-02  -4.06286994e-05   5.23527762e-02   1.36145709e-01\n",
      "   6.08541714e-03   1.10968385e-02   1.83147678e-01  -2.21151299e-02\n",
      "   3.65104258e-02   1.31750996e-01  -7.48428307e-02  -7.30330691e-02\n",
      "   3.90222664e-03   1.20112468e-01  -4.53845458e-02  -9.73101209e-02\n",
      "  -5.70718037e-02   5.16054022e-02   1.85057875e-01  -6.48222678e-02\n",
      "   1.31058705e-01  -1.05530261e-01  -5.66459147e-03   1.39809487e-01\n",
      "   2.83095687e-02  -1.10038320e-01   1.75437463e-01   2.57767778e-03\n",
      "   1.66865555e-01   4.82568143e-02   1.41916823e-01  -1.15346569e-01\n",
      "  -3.46409637e-02  -1.00823912e-01  -1.57084056e-02   1.30345897e-01\n",
      "  -1.27120451e-01   7.90173760e-02  -3.79802963e-02  -1.23265685e-01\n",
      "  -5.38285867e-02  -1.09997743e-01   2.44230089e-02   2.62206684e-01\n",
      "   1.01420219e-01  -1.22680438e-01  -1.55294609e-01  -6.12867881e-03\n",
      "   1.58043981e-01  -5.93252833e-02  -2.50402660e-02   2.78943735e-02\n",
      "   5.57559158e-02   9.78191587e-02  -1.24515442e-01  -1.18727687e-01\n",
      "   1.37956170e-02  -5.25574915e-02   9.56604581e-03  -1.54902497e-02\n",
      "   7.57479775e-02   1.03993226e-01   6.16494169e-02   5.39694392e-02\n",
      "   2.84608131e-02   1.92188751e-01   5.64861347e-02   8.49243045e-02\n",
      "  -3.03559693e-02  -9.62310798e-02  -1.44471709e-01  -2.00355608e-01\n",
      "  -1.62988994e-01   2.66140412e-01   1.34442366e-04  -1.27036906e-01\n",
      "   2.70824241e-02   4.77333792e-02   7.17589454e-02   3.17272876e-02\n",
      "   7.49062295e-02   5.31914892e-02  -7.95230717e-02  -1.54260708e-02\n",
      "  -3.81435525e-02   1.10948927e-01   8.09817850e-02  -7.32584102e-02\n",
      "  -4.30504464e-02   1.89789844e-02   7.41936248e-02   2.94244487e-02\n",
      "  -1.38906598e-01  -9.07223999e-02   3.06209779e-02  -4.15138028e-02\n",
      "  -7.84620250e-02   3.10453098e-02   6.21229789e-02   1.26960706e-02\n",
      "   1.55183836e-01   1.42176266e-01   2.91256535e-01  -1.54772355e-01\n",
      "  -1.00305784e-02   2.03298868e-02  -4.81629288e-02   5.43238058e-02\n",
      "  -1.18278114e-01  -6.71740137e-02  -2.58346888e-02   6.49244645e-02\n",
      "   6.99353102e-02   2.95471234e-03   8.50366712e-02   1.30645123e-01\n",
      "   6.66226977e-02  -1.09487790e-01  -1.06459714e-01   1.51128609e-01\n",
      "   6.72823184e-02   6.85124613e-02  -7.23564058e-02  -7.63619852e-02] 0.33405678283\n",
      "target values for D: [1 1 0 0 0 1 0 1 1 0 0 0 0 0 0 0 1 1 1 0 1 0 0 1 1 0 0 1 1 0 0 1 0 0 1 0 1\n",
      " 1 1 0 0 0 0 0 0 1 0 0 0 0 0 1 1 1 0 1 0 0 1 1 1 0 0 0 0 1 0 0 0 0 0 1 1 1\n",
      " 1 0 0 0 0 1 1 1 1 0 1 1 1 0 1 1 1 0 0 0 0 1 0 0 1 1 1 0 0 0 1 1 0 1 0 1 1\n",
      " 1 1 1 0 1 1 1 1 0 1 0 0 1 1 0 0 1 0 0 0 1 0 1 0 0 0 0 1 0 1 0 0 0 1 0 1 0\n",
      " 1 0 1 1 0 1 0 1 1 0 1 1 1 0 1 1 0 1 0 0 0 1 1 1 1 1 1 1 0 0 0 1 1 1 0 0 1\n",
      " 1 1 0 1 0 0 0 0 1 1 0 1 1 1 0 1 1 1 0 0 1 0 0 1 0 1 0 1 1 0 1 1 1 1 0 1 1\n",
      " 1 0 1 0 1 1 1 0 1 1 0 0 1 0 0 0 1 1 1 1 1 1 0 1 1 1 1 0 0 0 0 1 1 0 0 0 1\n",
      " 1 1 1 1 1 1 1 0 1 1 1 0 1 0 1 0 0 1 1 1 1 1 0 1 1 1 1 0 1 1 0 1 1 0 1 0 1\n",
      " 0 0 1 1 1 1 1 1 1 1 0 0 0 1 0 1 1 0 1 1 0 0 0 1 0 0 0 0 0 1 0 1 0 1 1 0 0\n",
      " 1 0 1 1 1 1 1 0 0 1 0 0 1 1 0 0 0 0 0 0 0 1 1 1 0 0 1 1 1 0 0 1 0 1 1 0 1\n",
      " 1 0 1 0 1 1 1 0 0 0 1 1 0 1 0 1 1 1 1 1 1 0 1 0 0 1 0 0 1 0]\n",
      "prediction on D: [1 1 0 0 0 1 0 1 1 0 0 0 0 0 0 0 1 1 1 0 1 0 0 1 1 0 0 1 1 0 0 1 0 0 1 0 1\n",
      " 1 1 0 0 0 0 0 0 1 0 0 0 0 0 1 1 1 0 1 0 0 1 1 1 0 0 0 0 1 0 0 0 0 0 1 1 1\n",
      " 1 0 0 0 0 1 1 1 1 0 1 1 1 0 1 1 1 0 0 0 0 1 0 0 1 1 1 0 0 0 1 1 0 1 0 1 1\n",
      " 1 1 1 0 1 1 1 1 0 1 0 0 1 1 0 0 1 0 0 0 1 0 1 0 0 0 0 1 0 1 0 0 0 1 0 1 0\n",
      " 1 0 1 1 0 1 0 1 1 0 1 1 1 0 1 1 0 1 0 0 0 1 1 1 1 1 1 1 0 0 0 1 1 1 0 0 1\n",
      " 1 1 0 1 0 0 0 0 1 1 0 1 1 1 0 1 1 1 0 0 1 0 0 1 0 1 0 1 1 0 1 1 1 1 0 1 1\n",
      " 1 0 1 0 1 1 1 0 1 1 0 0 1 0 0 0 1 1 1 1 1 1 0 1 1 1 1 0 0 0 0 1 1 0 0 0 1\n",
      " 1 1 1 1 1 1 1 0 1 1 1 0 1 0 1 0 0 1 1 1 1 1 0 1 1 1 1 0 1 1 0 1 1 0 1 0 1\n",
      " 0 0 1 1 1 1 1 1 1 1 0 0 0 1 0 1 1 0 1 1 0 0 0 1 0 0 0 0 0 1 0 1 0 1 1 0 0\n",
      " 1 0 1 1 1 1 1 0 0 1 0 0 1 1 0 0 0 0 0 0 0 1 1 1 0 0 1 1 1 0 0 1 0 1 1 0 1\n",
      " 1 0 1 0 1 1 1 0 0 0 1 1 0 1 0 1 1 1 1 1 1 0 1 0 0 1 0 0 1 0]\n"
     ]
    }
   ],
   "source": [
    "import numpy\n",
    "import theano\n",
    "import theano.tensor as T\n",
    "rng = numpy.random\n",
    "\n",
    "N = 400\n",
    "feats = 784\n",
    "D = (rng.randn(N, feats), rng.randint(size=N, low=0, high=2))\n",
    "training_steps = 10000\n",
    "\n",
    "# Declare Theano symbolic variables\n",
    "x = T.matrix(\"x\")\n",
    "y = T.vector(\"y\")\n",
    "w = theano.shared(rng.randn(feats), name=\"w\")\n",
    "b = theano.shared(0., name=\"b\")\n",
    "print \"Initial model:\"\n",
    "print w.get_value(), b.get_value()\n",
    "\n",
    "# Construct Theano expression graph\n",
    "p_1 = 1 / (1 + T.exp(-T.dot(x, w) - b))   # Probability that target = 1\n",
    "prediction = p_1 > 0.5                    # The prediction thresholded\n",
    "xent = -y * T.log(p_1) - (1-y) * T.log(1-p_1) # Cross-entropy loss function\n",
    "cost = xent.mean() + 0.01 * (w ** 2).sum()# The cost to minimize\n",
    "gw, gb = T.grad(cost, [w, b])             # Compute the gradient of the cost\n",
    "                                          # (we shall return to this in a\n",
    "                                          # following section of this tutorial)\n",
    "\n",
    "# Compile\n",
    "train = theano.function(\n",
    "          allow_input_downcast=True,\n",
    "          inputs=[x,y],\n",
    "          outputs=[prediction, xent],\n",
    "          updates=((w, w - 0.1 * gw), (b, b - 0.1 * gb)))\n",
    "predict = theano.function(inputs=[x], outputs=prediction, allow_input_downcast=True,)\n",
    "\n",
    "for i in range(training_steps):\n",
    "    pred, err = train(D[0], D[1])\n",
    "\n",
    "\n",
    "print \"Final model:\"\n",
    "print w.get_value(), b.get_value()\n",
    "print \"target values for D:\", D[1]\n",
    "print \"prediction on D:\", predict(D[0])"
   ]
  },
  {
   "cell_type": "code",
   "execution_count": null,
   "metadata": {
    "collapsed": true
   },
   "outputs": [],
   "source": []
  }
 ],
 "metadata": {
  "kernelspec": {
   "display_name": "Python 2",
   "language": "python",
   "name": "python2"
  },
  "language_info": {
   "codemirror_mode": {
    "name": "ipython",
    "version": 2
   },
   "file_extension": ".py",
   "mimetype": "text/x-python",
   "name": "python",
   "nbconvert_exporter": "python",
   "pygments_lexer": "ipython2",
   "version": "2.7.9"
  }
 },
 "nbformat": 4,
 "nbformat_minor": 0
}
