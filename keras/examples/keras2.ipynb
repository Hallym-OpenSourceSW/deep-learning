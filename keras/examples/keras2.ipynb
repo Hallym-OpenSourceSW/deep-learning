{
 "cells": [
  {
   "cell_type": "code",
   "execution_count": 3,
   "metadata": {
    "collapsed": false
   },
   "outputs": [],
   "source": [
    "# Create first network with Keras\n",
    "from keras.models import Sequential\n",
    "from keras.layers import Dense\n",
    "import numpy\n",
    "from keras.layers import Merge"
   ]
  },
  {
   "cell_type": "code",
   "execution_count": 4,
   "metadata": {
    "collapsed": false
   },
   "outputs": [
    {
     "name": "stdout",
     "output_type": "stream",
     "text": [
      "Epoch 1/10\n",
      "1000/1000 [==============================] - 0s - loss: 2.9168 - acc: 0.1070     \n",
      "Epoch 2/10\n",
      "1000/1000 [==============================] - 0s - loss: 2.6095 - acc: 0.1190     \n",
      "Epoch 3/10\n",
      "1000/1000 [==============================] - 0s - loss: 2.5227 - acc: 0.1360     \n",
      "Epoch 4/10\n",
      "1000/1000 [==============================] - 0s - loss: 2.3769 - acc: 0.1730     \n",
      "Epoch 5/10\n",
      "1000/1000 [==============================] - 0s - loss: 2.2570 - acc: 0.2080     \n",
      "Epoch 6/10\n",
      "1000/1000 [==============================] - 0s - loss: 2.1650 - acc: 0.2340     \n",
      "Epoch 7/10\n",
      "1000/1000 [==============================] - 0s - loss: 2.0394 - acc: 0.2770     \n",
      "Epoch 8/10\n",
      "1000/1000 [==============================] - 0s - loss: 1.9367 - acc: 0.3060     \n",
      "Epoch 9/10\n",
      "1000/1000 [==============================] - 0s - loss: 1.8690 - acc: 0.3580     \n",
      "Epoch 10/10\n",
      "1000/1000 [==============================] - 0s - loss: 1.8039 - acc: 0.3620     \n"
     ]
    },
    {
     "data": {
      "text/plain": [
       "<keras.callbacks.History at 0x10d1afdd0>"
      ]
     },
     "execution_count": 4,
     "metadata": {},
     "output_type": "execute_result"
    }
   ],
   "source": [
    "# for a multi-input model with 10 classes:\n",
    "\n",
    "left_branch = Sequential()\n",
    "left_branch.add(Dense(32, input_dim=784))\n",
    "\n",
    "right_branch = Sequential()\n",
    "right_branch.add(Dense(32, input_dim=784))\n",
    "\n",
    "merged = Merge([left_branch, right_branch], mode='concat')\n",
    "\n",
    "model = Sequential()\n",
    "model.add(merged)\n",
    "model.add(Dense(10, activation='softmax'))\n",
    "\n",
    "model.compile(optimizer='rmsprop',\n",
    "              loss='categorical_crossentropy',\n",
    "              metrics=['accuracy'])\n",
    "\n",
    "# generate dummy data\n",
    "import numpy as np\n",
    "from keras.utils.np_utils import to_categorical\n",
    "data_1 = np.random.random((1000, 784))\n",
    "data_2 = np.random.random((1000, 784))\n",
    "\n",
    "# these are integers between 0 and 9\n",
    "labels = np.random.randint(10, size=(1000, 1))\n",
    "# we convert the labels to a binary matrix of size (1000, 10)\n",
    "# for use with categorical_crossentropy\n",
    "labels = to_categorical(labels, 10)\n",
    "\n",
    "# train the model\n",
    "# note that we are passing a list of Numpy arrays as training data\n",
    "# since the model has 2 inputs\n",
    "model.fit([data_1, data_2], labels, nb_epoch=10, batch_size=32)"
   ]
  },
  {
   "cell_type": "code",
   "execution_count": null,
   "metadata": {
    "collapsed": true
   },
   "outputs": [],
   "source": []
  }
 ],
 "metadata": {
  "kernelspec": {
   "display_name": "Python 2",
   "language": "python",
   "name": "python2"
  },
  "language_info": {
   "codemirror_mode": {
    "name": "ipython",
    "version": 2
   },
   "file_extension": ".py",
   "mimetype": "text/x-python",
   "name": "python",
   "nbconvert_exporter": "python",
   "pygments_lexer": "ipython2",
   "version": "2.7.11"
  }
 },
 "nbformat": 4,
 "nbformat_minor": 0
}
